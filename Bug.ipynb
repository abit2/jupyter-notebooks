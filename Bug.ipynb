{
 "cells": [
  {
   "cell_type": "code",
   "execution_count": 1,
   "metadata": {},
   "outputs": [
    {
     "name": "stdout",
     "output_type": "stream",
     "text": [
      "[{u'scale': u'non-linear celestial', u'group': 0, u'number': 1, u'coordinate_type': u'celestial'}, {u'scale': u'linear', u'group': 0, u'number': 0, u'coordinate_type': u'spectral'}, {u'scale': u'linear', u'group': 0, u'number': 0, u'coordinate_type': None}, {u'scale': u'non-linear celestial', u'group': 0, u'number': 0, u'coordinate_type': u'celestial'}]\n"
     ]
    },
    {
     "name": "stderr",
     "output_type": "stream",
     "text": [
      "WARNING: FITSFixedWarning: 'celfix' made the change 'Unmatched celestial axes'. [astropy.wcs.wcs]\n"
     ]
    }
   ],
   "source": [
    "from __future__ import absolute_import\n",
    "from sunpycube.cube.datacube import Cube, CubeSequence\n",
    "from sunpycube.cube import cube_utils as cu\n",
    "import numpy as np\n",
    "from sunpycube.wcs_util import WCS\n",
    "import pytest\n",
    "import astropy.units as u\n",
    "\n",
    "\n",
    "# sample data for tests\n",
    "# TODO: use a fixture reading from a test file. file TBD.\n",
    "data = np.array([[[1, 2, 3, 4], [2, 4, 5, 3], [0, -1, 2, 3]],\n",
    "                 [[2, 4, 5, 1], [10, 5, 2, 2], [10, 3, 3, 0]]])\n",
    "\n",
    "data2 = np.array([[[11, 22, 33, 44], [22, 44, 55, 33], [0, -1, 22, 33]],\n",
    "                  [[22, 44, 55, 11], [10, 55, 22, 22], [10, 33, 33, 0]]])\n",
    "\n",
    "ht = {'CTYPE1': 'HPLT-TAN', 'CUNIT1': 'deg', 'CDELT1': 0.5, 'CRPIX1': 0, 'CRVAL1': 0, 'NAXIS1': 2,\n",
    "      'CTYPE2': 'WAVE    ', 'CUNIT2': 'Angstrom', 'CDELT2': 0.2, 'CRPIX2': 0, 'CRVAL2': 0, 'NAXIS2': 3,\n",
    "      'CTYPE3': 'TIME    ', 'CUNIT3': 'min', 'CDELT3': 0.4, 'CRPIX3': 0, 'CRVAL3': 0, 'NAXIS3': 4}\n",
    "\n",
    "hm = {\n",
    "    'CTYPE1': 'WAVE    ', 'CUNIT1': 'Angstrom', 'CDELT1': 0.2, 'CRPIX1': 0, 'CRVAL1': 10, 'NAXIS1': 4,\n",
    "    'CTYPE2': 'HPLT-TAN', 'CUNIT2': 'deg', 'CDELT2': 0.5, 'CRPIX2': 2, 'CRVAL2': 0.5, 'NAXIS2': 3,\n",
    "    'CTYPE3': 'HPLN-TAN', 'CUNIT3': 'deg', 'CDELT3': 0.4, 'CRPIX3': 2, 'CRVAL3': 1, 'NAXIS3': 2,\n",
    "}\n",
    "\n",
    "wt = WCS(header=ht, naxis=3)\n",
    "wm = WCS(header=hm, naxis=3)\n",
    "\n",
    "cube1 = Cube(data, wt)\n",
    "cube2 = Cube(data, wm)\n",
    "cube3 = Cube(data2, wt)\n",
    "cube4 = Cube(data2, wm)\n",
    "\n",
    "seq = CubeSequence([cube1, cube2, cube3, cube4])\n"
   ]
  },
  {
   "cell_type": "code",
   "execution_count": 2,
   "metadata": {},
   "outputs": [
    {
     "name": "stdout",
     "output_type": "stream",
     "text": [
      "(<type 'int'>, False, True, False, False, False)\n"
     ]
    },
    {
     "data": {
      "text/plain": [
       "Spectrum([10, 14,  4])"
      ]
     },
     "execution_count": 2,
     "metadata": {},
     "output_type": "execute_result"
    }
   ],
   "source": [
    "# seq[0] gives a cube which is then indexed at 0\n",
    "seq[0][0]"
   ]
  },
  {
   "cell_type": "code",
   "execution_count": 3,
   "metadata": {},
   "outputs": [
    {
     "name": "stdout",
     "output_type": "stream",
     "text": [
      "(<type 'tuple'>, False, False, False, False, False)\n"
     ]
    },
    {
     "data": {
      "text/plain": [
       "array([[ 1,  2,  3,  4],\n",
       "       [ 2,  4,  5,  3],\n",
       "       [ 0, -1,  2,  3]])"
      ]
     },
     "execution_count": 3,
     "metadata": {},
     "output_type": "execute_result"
    }
   ],
   "source": [
    "# should be spectrum too right?\n",
    "seq[0,0]"
   ]
  },
  {
   "cell_type": "code",
   "execution_count": null,
   "metadata": {
    "collapsed": true
   },
   "outputs": [],
   "source": []
  }
 ],
 "metadata": {
  "kernelspec": {
   "display_name": "Python 2",
   "language": "python",
   "name": "python2"
  },
  "language_info": {
   "codemirror_mode": {
    "name": "ipython",
    "version": 2
   },
   "file_extension": ".py",
   "mimetype": "text/x-python",
   "name": "python",
   "nbconvert_exporter": "python",
   "pygments_lexer": "ipython2",
   "version": "2.7.12"
  }
 },
 "nbformat": 4,
 "nbformat_minor": 2
}
