{
 "cells": [
  {
   "cell_type": "code",
   "execution_count": 1,
   "metadata": {},
   "outputs": [],
   "source": [
    "from sunpycube.cube.datacube import Cube\n",
    "from sunpycube.wcs_util import WCS\n",
    "import matplotlib.pyplot as plt\n",
    "from astropy.io import fits\n",
    "import astropy.units as u\n",
    "raster_file = \"/home/ankit/Desktop/DATA/STEVE/iris_l2_20141211_191222_3803105278_raster_t000_r00000.fits\"\n",
    "hdulist = fits.open(raster_file)\n",
    "w = WCS(header=hdulist[1].header)\n",
    "dc = Cube(hdulist[1].data, w)"
   ]
  },
  {
   "cell_type": "code",
   "execution_count": 2,
   "metadata": {},
   "outputs": [
    {
     "data": {
      "text/plain": [
       "WCS Keywords\n",
       "\n",
       "Number of WCS axes: 3\n",
       "CTYPE : 'WAVE'  'HPLT-TAN'  'HPLN-TAN'  \n",
       "CRVAL : 1.3319000000000002e-07  -0.072467222222222225  0.0034161111111111111  \n",
       "CRPIX : 1.0  274.5  4.0  \n",
       "PC1_1 PC1_2 PC1_3  : 1.0  0.0  0.0  \n",
       "PC2_1 PC2_2 PC2_3  : 0.0  0.99993818998299999  -0.033827780520499999  \n",
       "PC3_1 PC3_2 PC3_3  : 0.0  0.00376150493276  0.99993818998299999  \n",
       "CDELT : 2.5960000000000002e-12  9.2416666666666659e-05  0.00027714449261861111  \n",
       "NAXIS : 333  548  8"
      ]
     },
     "execution_count": 2,
     "metadata": {},
     "output_type": "execute_result"
    }
   ],
   "source": [
    "dc.axes_wcs"
   ]
  },
  {
   "cell_type": "code",
   "execution_count": 3,
   "metadata": {
    "collapsed": true
   },
   "outputs": [],
   "source": [
    "p = dc[slice(0,2), slice(0,4)]"
   ]
  },
  {
   "cell_type": "code",
   "execution_count": 4,
   "metadata": {},
   "outputs": [
    {
     "data": {
      "text/plain": [
       "WCS Keywords\n",
       "\n",
       "Number of WCS axes: 3\n",
       "CTYPE : 'WAVE'  'HPLT-TAN'  'HPLN-TAN'  \n",
       "CRVAL : 1.3319000000000002e-07  -0.072467222222222225  0.0034161111111111111  \n",
       "CRPIX : 1.0  274.5  4.0  \n",
       "PC1_1 PC1_2 PC1_3  : 1.0  0.0  0.0  \n",
       "PC2_1 PC2_2 PC2_3  : 0.0  0.99993818998299999  -0.033827780520499999  \n",
       "PC3_1 PC3_2 PC3_3  : 0.0  0.00376150493276  0.99993818998299999  \n",
       "CDELT : 2.5960000000000002e-12  9.2416666666666659e-05  0.00027714449261861111  \n",
       "NAXIS : 333  4  2"
      ]
     },
     "execution_count": 4,
     "metadata": {},
     "output_type": "execute_result"
    }
   ],
   "source": [
    "p.axes_wcs"
   ]
  },
  {
   "cell_type": "code",
   "execution_count": 9,
   "metadata": {
    "collapsed": true
   },
   "outputs": [],
   "source": [
    "p = dc[slice(0,3)]"
   ]
  },
  {
   "cell_type": "code",
   "execution_count": 10,
   "metadata": {},
   "outputs": [
    {
     "data": {
      "text/plain": [
       "WCS Keywords\n",
       "\n",
       "Number of WCS axes: 3\n",
       "CTYPE : 'WAVE'  'HPLT-TAN'  'HPLN-TAN'  \n",
       "CRVAL : 1.3319000000000002e-07  -0.072467222222222225  0.0034161111111111111  \n",
       "CRPIX : 1.0  274.5  4.0  \n",
       "PC1_1 PC1_2 PC1_3  : 1.0  0.0  0.0  \n",
       "PC2_1 PC2_2 PC2_3  : 0.0  0.99993818998299999  -0.033827780520499999  \n",
       "PC3_1 PC3_2 PC3_3  : 0.0  0.00376150493276  0.99993818998299999  \n",
       "CDELT : 2.5960000000000002e-12  9.2416666666666659e-05  0.00027714449261861111  \n",
       "NAXIS : 333  548  8"
      ]
     },
     "execution_count": 10,
     "metadata": {},
     "output_type": "execute_result"
    }
   ],
   "source": [
    "p.axes_wcs"
   ]
  },
  {
   "cell_type": "code",
   "execution_count": 11,
   "metadata": {
    "collapsed": true
   },
   "outputs": [],
   "source": [
    "p = dc[slice(0,3),]"
   ]
  },
  {
   "cell_type": "code",
   "execution_count": 12,
   "metadata": {},
   "outputs": [
    {
     "data": {
      "text/plain": [
       "WCS Keywords\n",
       "\n",
       "Number of WCS axes: 3\n",
       "CTYPE : 'WAVE'  'HPLT-TAN'  'HPLN-TAN'  \n",
       "CRVAL : 1.3319000000000002e-07  -0.072467222222222225  0.0034161111111111111  \n",
       "CRPIX : 1.0  274.5  4.0  \n",
       "PC1_1 PC1_2 PC1_3  : 1.0  0.0  0.0  \n",
       "PC2_1 PC2_2 PC2_3  : 0.0  0.99993818998299999  -0.033827780520499999  \n",
       "PC3_1 PC3_2 PC3_3  : 0.0  0.00376150493276  0.99993818998299999  \n",
       "CDELT : 2.5960000000000002e-12  9.2416666666666659e-05  0.00027714449261861111  \n",
       "NAXIS : 333  548  3"
      ]
     },
     "execution_count": 12,
     "metadata": {},
     "output_type": "execute_result"
    }
   ],
   "source": [
    "p.axes_wcs"
   ]
  },
  {
   "cell_type": "code",
   "execution_count": 13,
   "metadata": {},
   "outputs": [
    {
     "data": {
      "text/plain": [
       "WCS Keywords\n",
       "\n",
       "Number of WCS axes: 3\n",
       "CTYPE : 'WAVE'  'HPLT-TAN'  'HPLN-TAN'  \n",
       "CRVAL : 1.3319000000000002e-07  -0.072467222222222225  0.0034161111111111111  \n",
       "CRPIX : 1.0  274.5  4.0  \n",
       "PC1_1 PC1_2 PC1_3  : 1.0  0.0  0.0  \n",
       "PC2_1 PC2_2 PC2_3  : 0.0  0.99993818998299999  -0.033827780520499999  \n",
       "PC3_1 PC3_2 PC3_3  : 0.0  0.00376150493276  0.99993818998299999  \n",
       "CDELT : 2.5960000000000002e-12  9.2416666666666659e-05  0.00027714449261861111  \n",
       "NAXIS : 6  5  4"
      ]
     },
     "execution_count": 13,
     "metadata": {},
     "output_type": "execute_result"
    }
   ],
   "source": [
    "p = dc[slice(0,4), slice(0,5), slice(0,6)]\n",
    "p.axes_wcs"
   ]
  },
  {
   "cell_type": "code",
   "execution_count": null,
   "metadata": {
    "collapsed": true
   },
   "outputs": [],
   "source": [
    "p = dc[]"
   ]
  }
 ],
 "metadata": {
  "kernelspec": {
   "display_name": "Python 2",
   "language": "python",
   "name": "python2"
  },
  "language_info": {
   "codemirror_mode": {
    "name": "ipython",
    "version": 2
   },
   "file_extension": ".py",
   "mimetype": "text/x-python",
   "name": "python",
   "nbconvert_exporter": "python",
   "pygments_lexer": "ipython2",
   "version": "2.7.12"
  }
 },
 "nbformat": 4,
 "nbformat_minor": 2
}
