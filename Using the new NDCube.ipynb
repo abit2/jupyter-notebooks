{
 "cells": [
  {
   "cell_type": "code",
   "execution_count": 2,
   "metadata": {
    "collapsed": true
   },
   "outputs": [],
   "source": [
    "import matplotlib.pyplot as plt\n",
    "from sunpycube.cube.NDCube import NDCube\n",
    "import os\n",
    "from astropy.io import fits\n",
    "from sunpycube.wcs_util import WCS\n",
    "import astropy.units as u\n",
    "import numpy as np\n",
    "file_location = \"/home/ankit/Desktop/DATA/STEVE/\"\n",
    "files = os.listdir(file_location)\n",
    "\n",
    "for i, f in enumerate(files):\n",
    "   files[i] = file_location + f\n",
    "hdulist = fits.open(files[0])\n",
    "data = hdulist[1].data\n",
    "wc = WCS(hdulist[1].header)\n",
    "a = NDCube(data, wcs=wc)"
   ]
  },
  {
   "cell_type": "code",
   "execution_count": 3,
   "metadata": {
    "collapsed": true
   },
   "outputs": [],
   "source": [
    "pp = a[0,0]"
   ]
  },
  {
   "cell_type": "code",
   "execution_count": 4,
   "metadata": {},
   "outputs": [
    {
     "data": {
      "text/plain": [
       "(333,)"
      ]
     },
     "execution_count": 4,
     "metadata": {},
     "output_type": "execute_result"
    }
   ],
   "source": [
    "pp.data.shape"
   ]
  },
  {
   "cell_type": "code",
   "execution_count": 5,
   "metadata": {},
   "outputs": [
    {
     "data": {
      "text/plain": [
       "WCS Keywords\n",
       "\n",
       "Number of WCS axes: 3\n",
       "CTYPE : 'WAVE'  'HPLT-TAN'  'HPLN-TAN'  \n",
       "CRVAL : 1.3319000000000002e-07  -0.07214583333333334  0.003415111111111111  \n",
       "CRPIX : 1.0  274.5  4.0  \n",
       "PC1_1 PC1_2 PC1_3  : 1.0  0.0  0.0  \n",
       "PC2_1 PC2_2 PC2_3  : 0.0  0.99993818998299999  -0.033824669224999999  \n",
       "PC3_1 PC3_2 PC3_3  : 0.0  0.0037611589699699998  0.99993818998299999  \n",
       "CDELT : 2.5960000000000002e-12  9.2416666666666659e-05  0.00027714449261861111  \n",
       "NAXIS : 333  1  1"
      ]
     },
     "execution_count": 5,
     "metadata": {},
     "output_type": "execute_result"
    }
   ],
   "source": [
    "pp.wcs"
   ]
  },
  {
   "cell_type": "code",
   "execution_count": 6,
   "metadata": {},
   "outputs": [
    {
     "data": {
      "text/plain": [
       "[True, True, False]"
      ]
     },
     "execution_count": 6,
     "metadata": {},
     "output_type": "execute_result"
    }
   ],
   "source": [
    "pp.missing_axis"
   ]
  },
  {
   "cell_type": "code",
   "execution_count": 7,
   "metadata": {},
   "outputs": [
    {
     "data": {
      "text/plain": [
       "[True, True, False]"
      ]
     },
     "execution_count": 7,
     "metadata": {},
     "output_type": "execute_result"
    }
   ],
   "source": [
    "a.missing_axis"
   ]
  },
  {
   "cell_type": "code",
   "execution_count": null,
   "metadata": {
    "collapsed": true
   },
   "outputs": [],
   "source": []
  }
 ],
 "metadata": {
  "kernelspec": {
   "display_name": "Python 3",
   "language": "python",
   "name": "python3"
  },
  "language_info": {
   "codemirror_mode": {
    "name": "ipython",
    "version": 3
   },
   "file_extension": ".py",
   "mimetype": "text/x-python",
   "name": "python",
   "nbconvert_exporter": "python",
   "pygments_lexer": "ipython3",
   "version": "3.6.1"
  }
 },
 "nbformat": 4,
 "nbformat_minor": 2
}
