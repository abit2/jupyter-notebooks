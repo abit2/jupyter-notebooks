{
 "cells": [
  {
   "cell_type": "code",
   "execution_count": 1,
   "metadata": {
    "collapsed": true
   },
   "outputs": [],
   "source": [
    "from sunpycube.cube.datacube import Cube, CubeSequence\n",
    "from astropy.io import fits\n",
    "from sunpycube.wcs_util import WCS\n",
    "from irispy.spectrograph import IRISSG\n",
    "import matplotlib.pyplot as plt\n",
    "import sunpycube.cube.cube_utils as cu\n",
    "import os\n",
    "\n",
    "file_location = \"/home/ankit/Desktop/DATA/STEVE/\"\n",
    "files = os.listdir(file_location)\n",
    "\n",
    "for i, f in enumerate(files):\n",
    "   files[i] = file_location + f\n",
    "\n",
    "raster = IRISSG(files[0:5])\n",
    "window = raster.spectral_windows[\"name\"]"
   ]
  },
  {
   "cell_type": "code",
   "execution_count": 2,
   "metadata": {},
   "outputs": [
    {
     "data": {
      "text/plain": [
       "<iris.IRISSG instance\n",
       "OBS ID: 3803105278\n",
       "OBS Description: Very large sparse 8-step raster 7x175 8s  C II   Si IV Deep x 2 Spat\n",
       "OBS period: 2014-12-11T19:12:22.070 -- 2014-12-11T19:39:06.983\n",
       "Number unique raster positions: 8\n",
       "Spectral windows\n",
       "    C II 1336\n",
       "        (raster axis: 8, slit axis: 548, spectral axis: 333)\n",
       "    O I 1356\n",
       "        (raster axis: 8, slit axis: 548, spectral axis: 412)\n",
       "    Si IV 1394\n",
       "        (raster axis: 8, slit axis: 548, spectral axis: 193)\n",
       "    Si IV 1403\n",
       "        (raster axis: 8, slit axis: 548, spectral axis: 336)\n",
       "    2832\n",
       "        (raster axis: 8, slit axis: 548, spectral axis: 59)\n",
       "    2814\n",
       "        (raster axis: 8, slit axis: 548, spectral axis: 75)\n",
       "    Mg II k 2796\n",
       "        (raster axis: 8, slit axis: 548, spectral axis: 381)>"
      ]
     },
     "execution_count": 2,
     "metadata": {},
     "output_type": "execute_result"
    }
   ],
   "source": [
    "raster"
   ]
  },
  {
   "cell_type": "code",
   "execution_count": 3,
   "metadata": {},
   "outputs": [
    {
     "data": {
      "text/html": [
       "&lt;Table length=7&gt;\n",
       "<table id=\"table139745594906640\" class=\"table-striped table-bordered table-condensed\">\n",
       "<thead><tr><th>name</th><th>detector type</th><th>brightest wavelength</th><th>min wavelength</th><th>max wavelength</th></tr></thead>\n",
       "<thead><tr><th></th><th></th><th>Angstrom</th><th>Angstrom</th><th>Angstrom</th></tr></thead>\n",
       "<thead><tr><th>str12</th><th>str4</th><th>float64</th><th>float64</th><th>float64</th></tr></thead>\n",
       "<tr><td>C II 1336</td><td>FUV1</td><td>1335.71</td><td>1331.9</td><td>1340.52</td></tr>\n",
       "<tr><td>O I 1356</td><td>FUV1</td><td>1355.6</td><td>1346.85</td><td>1357.52</td></tr>\n",
       "<tr><td>Si IV 1394</td><td>FUV2</td><td>1393.78</td><td>1391.3042</td><td>1396.1842</td></tr>\n",
       "<tr><td>Si IV 1403</td><td>FUV2</td><td>1402.77</td><td>1398.2242</td><td>1406.7442</td></tr>\n",
       "<tr><td>2832</td><td>NUV</td><td>2832.77</td><td>2831.29</td><td>2834.24</td></tr>\n",
       "<tr><td>2814</td><td>NUV</td><td>2814.49</td><td>2812.6</td><td>2816.37</td></tr>\n",
       "<tr><td>Mg II k 2796</td><td>NUV</td><td>2796.2</td><td>2790.55</td><td>2809.9</td></tr>\n",
       "</table>"
      ],
      "text/plain": [
       "<Table length=7>\n",
       "    name     detector type brightest wavelength min wavelength max wavelength\n",
       "                                 Angstrom          Angstrom       Angstrom   \n",
       "   str12          str4           float64           float64        float64    \n",
       "------------ ------------- -------------------- -------------- --------------\n",
       "   C II 1336          FUV1              1335.71         1331.9        1340.52\n",
       "    O I 1356          FUV1               1355.6        1346.85        1357.52\n",
       "  Si IV 1394          FUV2              1393.78      1391.3042      1396.1842\n",
       "  Si IV 1403          FUV2              1402.77      1398.2242      1406.7442\n",
       "        2832           NUV              2832.77        2831.29        2834.24\n",
       "        2814           NUV              2814.49         2812.6        2816.37\n",
       "Mg II k 2796           NUV               2796.2        2790.55         2809.9"
      ]
     },
     "execution_count": 3,
     "metadata": {},
     "output_type": "execute_result"
    }
   ],
   "source": [
    "raster.spectral_windows"
   ]
  },
  {
   "cell_type": "code",
   "execution_count": 4,
   "metadata": {},
   "outputs": [
    {
     "data": {
      "text/plain": [
       "'C II 1336'"
      ]
     },
     "execution_count": 4,
     "metadata": {},
     "output_type": "execute_result"
    }
   ],
   "source": [
    "window[0]"
   ]
  },
  {
   "cell_type": "code",
   "execution_count": 5,
   "metadata": {},
   "outputs": [
    {
     "data": {
      "text/plain": [
       "<sunpycube.visualization.animation.ImageAnimatorCubeSequence at 0x7f19456aa310>"
      ]
     },
     "execution_count": 5,
     "metadata": {},
     "output_type": "execute_result"
    }
   ],
   "source": [
    "raster.data[window[0]].animate(cmap=plt.cm.gist_heat, origin='lower')"
   ]
  },
  {
   "cell_type": "code",
   "execution_count": 6,
   "metadata": {},
   "outputs": [
    {
     "data": {
      "image/png": "[encoded data removed]",
      "text/plain": [
       "<matplotlib.figure.Figure at 0x7f1945696b50>"
      ]
     },
     "metadata": {},
     "output_type": "display_data"
    }
   ],
   "source": [
    "plt.show()"
   ]
  },
  {
   "cell_type": "code",
   "execution_count": 7,
   "metadata": {
    "collapsed": true
   },
   "outputs": [],
   "source": [
    "cubeseq_copper = raster.data[window[0]]"
   ]
  },
  {
   "cell_type": "code",
   "execution_count": 8,
   "metadata": {},
   "outputs": [
    {
     "data": {
      "text/plain": [
       "(5, 8, 548, 333)"
      ]
     },
     "execution_count": 8,
     "metadata": {},
     "output_type": "execute_result"
    }
   ],
   "source": [
    "cubeseq_copper.shape"
   ]
  },
  {
   "cell_type": "code",
   "execution_count": 9,
   "metadata": {},
   "outputs": [
    {
     "data": {
      "text/plain": [
       "<matplotlib.image.AxesImage at 0x7f190c923910>"
      ]
     },
     "execution_count": 9,
     "metadata": {},
     "output_type": "execute_result"
    }
   ],
   "source": [
    "cubeseq_copper.plot_x_slice(3)"
   ]
  },
  {
   "cell_type": "code",
   "execution_count": 10,
   "metadata": {},
   "outputs": [
    {
     "data": {
      "image/png": "[encoded data removed]",
      "text/plain": [
       "<matplotlib.figure.Figure at 0x7f190cad64d0>"
      ]
     },
     "metadata": {},
     "output_type": "display_data"
    }
   ],
   "source": [
    "plt.show()"
   ]
  },
  {
   "cell_type": "code",
   "execution_count": 11,
   "metadata": {},
   "outputs": [
    {
     "data": {
      "text/plain": [
       "<matplotlib.image.AxesImage at 0x7f190c856710>"
      ]
     },
     "execution_count": 11,
     "metadata": {},
     "output_type": "execute_result"
    }
   ],
   "source": [
    "cubeseq_copper.plot_wavelength_slice(3, cmap=plt.cm.gist_heat, origin='lower')"
   ]
  },
  {
   "cell_type": "code",
   "execution_count": 12,
   "metadata": {},
   "outputs": [
    {
     "data": {
      "image/png": "[encoded data removed]",
      "text/plain": [
       "<matplotlib.figure.Figure at 0x7f190c937950>"
      ]
     },
     "metadata": {},
     "output_type": "display_data"
    }
   ],
   "source": [
    "plt.show()"
   ]
  },
  {
   "cell_type": "code",
   "execution_count": 13,
   "metadata": {},
   "outputs": [
    {
     "data": {
      "text/plain": [
       "sunpycube.cube.datacube.Cube"
      ]
     },
     "execution_count": 13,
     "metadata": {},
     "output_type": "execute_result"
    }
   ],
   "source": [
    "type(cubeseq_copper[0])"
   ]
  },
  {
   "cell_type": "code",
   "execution_count": 14,
   "metadata": {},
   "outputs": [
    {
     "data": {
      "text/plain": [
       "Cube([[[-200., -200., -200., ..., -200., -200., -200.],\n",
       "       [-200., -200., -200., ..., -200., -200., -200.],\n",
       "       [-200., -200., -200., ..., -200., -200., -200.],\n",
       "       ..., \n",
       "       [-200., -200., -200., ..., -200., -200., -200.],\n",
       "       [-200., -200., -200., ..., -200., -200., -200.],\n",
       "       [-200., -200., -200., ..., -200., -200., -200.]],\n",
       "\n",
       "      [[-200., -200., -200., ..., -200., -200., -200.],\n",
       "       [-200., -200., -200., ..., -200., -200., -200.],\n",
       "       [-200., -200., -200., ..., -200., -200., -200.],\n",
       "       ..., \n",
       "       [-200., -200., -200., ..., -200., -200., -200.],\n",
       "       [-200., -200., -200., ..., -200., -200., -200.],\n",
       "       [-200., -200., -200., ..., -200., -200., -200.]],\n",
       "\n",
       "      [[-200., -200., -200., ..., -200., -200., -200.],\n",
       "       [-200., -200., -200., ..., -200., -200., -200.],\n",
       "       [-200., -200., -200., ..., -200., -200., -200.],\n",
       "       ..., \n",
       "       [-200., -200., -200., ..., -200., -200., -200.],\n",
       "       [-200., -200., -200., ..., -200., -200., -200.],\n",
       "       [-200., -200., -200., ..., -200., -200., -200.]],\n",
       "\n",
       "      ..., \n",
       "      [[-200., -200., -200., ..., -200., -200., -200.],\n",
       "       [-200., -200., -200., ..., -200., -200., -200.],\n",
       "       [-200., -200., -200., ..., -200., -200., -200.],\n",
       "       ..., \n",
       "       [-200., -200., -200., ..., -200., -200., -200.],\n",
       "       [-200., -200., -200., ..., -200., -200., -200.],\n",
       "       [-200., -200., -200., ..., -200., -200., -200.]],\n",
       "\n",
       "      [[-200., -200., -200., ..., -200., -200., -200.],\n",
       "       [-200., -200., -200., ..., -200., -200., -200.],\n",
       "       [-200., -200., -200., ..., -200., -200., -200.],\n",
       "       ..., \n",
       "       [-200., -200., -200., ..., -200., -200., -200.],\n",
       "       [-200., -200., -200., ..., -200., -200., -200.],\n",
       "       [-200., -200., -200., ..., -200., -200., -200.]],\n",
       "\n",
       "      [[-200., -200., -200., ..., -200., -200., -200.],\n",
       "       [-200., -200., -200., ..., -200., -200., -200.],\n",
       "       [-200., -200., -200., ..., -200., -200., -200.],\n",
       "       ..., \n",
       "       [-200., -200., -200., ..., -200., -200., -200.],\n",
       "       [-200., -200., -200., ..., -200., -200., -200.],\n",
       "       [-200., -200., -200., ..., -200., -200., -200.]]])"
      ]
     },
     "execution_count": 14,
     "metadata": {},
     "output_type": "execute_result"
    }
   ],
   "source": [
    "cubeseq_copper[0]"
   ]
  },
  {
   "cell_type": "code",
   "execution_count": 15,
   "metadata": {},
   "outputs": [
    {
     "data": {
      "text/plain": [
       "(8, 548, 333)"
      ]
     },
     "execution_count": 15,
     "metadata": {},
     "output_type": "execute_result"
    }
   ],
   "source": [
    "cubeseq_copper[0].shape"
   ]
  },
  {
   "cell_type": "code",
   "execution_count": 16,
   "metadata": {},
   "outputs": [
    {
     "data": {
      "text/plain": [
       "(1, 548, 333)"
      ]
     },
     "execution_count": 16,
     "metadata": {},
     "output_type": "execute_result"
    }
   ],
   "source": [
    "cubeseq_copper[0,slice(1,2)].shape"
   ]
  },
  {
   "cell_type": "code",
   "execution_count": 17,
   "metadata": {
    "collapsed": true
   },
   "outputs": [],
   "source": [
    "p = cubeseq_copper.index_as_cube((slice(2,10)))"
   ]
  },
  {
   "cell_type": "code",
   "execution_count": 18,
   "metadata": {},
   "outputs": [
    {
     "data": {
      "text/plain": [
       "[Cube([[[-200., -200., -200., ..., -200., -200., -200.],\n",
       "        [-200., -200., -200., ..., -200., -200., -200.],\n",
       "        [-200., -200., -200., ..., -200., -200., -200.],\n",
       "        ..., \n",
       "        [-200., -200., -200., ..., -200., -200., -200.],\n",
       "        [-200., -200., -200., ..., -200., -200., -200.],\n",
       "        [-200., -200., -200., ..., -200., -200., -200.]],\n",
       " \n",
       "       [[-200., -200., -200., ..., -200., -200., -200.],\n",
       "        [-200., -200., -200., ..., -200., -200., -200.],\n",
       "        [-200., -200., -200., ..., -200., -200., -200.],\n",
       "        ..., \n",
       "        [-200., -200., -200., ..., -200., -200., -200.],\n",
       "        [-200., -200., -200., ..., -200., -200., -200.],\n",
       "        [-200., -200., -200., ..., -200., -200., -200.]],\n",
       " \n",
       "       [[-200., -200., -200., ..., -200., -200., -200.],\n",
       "        [-200., -200., -200., ..., -200., -200., -200.],\n",
       "        [-200., -200., -200., ..., -200., -200., -200.],\n",
       "        ..., \n",
       "        [-200., -200., -200., ..., -200., -200., -200.],\n",
       "        [-200., -200., -200., ..., -200., -200., -200.],\n",
       "        [-200., -200., -200., ..., -200., -200., -200.]],\n",
       " \n",
       "       [[-200., -200., -200., ..., -200., -200., -200.],\n",
       "        [-200., -200., -200., ..., -200., -200., -200.],\n",
       "        [-200., -200., -200., ..., -200., -200., -200.],\n",
       "        ..., \n",
       "        [-200., -200., -200., ..., -200., -200., -200.],\n",
       "        [-200., -200., -200., ..., -200., -200., -200.],\n",
       "        [-200., -200., -200., ..., -200., -200., -200.]],\n",
       " \n",
       "       [[-200., -200., -200., ..., -200., -200., -200.],\n",
       "        [-200., -200., -200., ..., -200., -200., -200.],\n",
       "        [-200., -200., -200., ..., -200., -200., -200.],\n",
       "        ..., \n",
       "        [-200., -200., -200., ..., -200., -200., -200.],\n",
       "        [-200., -200., -200., ..., -200., -200., -200.],\n",
       "        [-200., -200., -200., ..., -200., -200., -200.]],\n",
       " \n",
       "       [[-200., -200., -200., ..., -200., -200., -200.],\n",
       "        [-200., -200., -200., ..., -200., -200., -200.],\n",
       "        [-200., -200., -200., ..., -200., -200., -200.],\n",
       "        ..., \n",
       "        [-200., -200., -200., ..., -200., -200., -200.],\n",
       "        [-200., -200., -200., ..., -200., -200., -200.],\n",
       "        [-200., -200., -200., ..., -200., -200., -200.]]]),\n",
       " Cube([[[-200., -200., -200., ..., -200., -200., -200.],\n",
       "        [-200., -200., -200., ..., -200., -200., -200.],\n",
       "        [-200., -200., -200., ..., -200., -200., -200.],\n",
       "        ..., \n",
       "        [-200., -200., -200., ..., -200., -200., -200.],\n",
       "        [-200., -200., -200., ..., -200., -200., -200.],\n",
       "        [-200., -200., -200., ..., -200., -200., -200.]],\n",
       " \n",
       "       [[-200., -200., -200., ..., -200., -200., -200.],\n",
       "        [-200., -200., -200., ..., -200., -200., -200.],\n",
       "        [-200., -200., -200., ..., -200., -200., -200.],\n",
       "        ..., \n",
       "        [-200., -200., -200., ..., -200., -200., -200.],\n",
       "        [-200., -200., -200., ..., -200., -200., -200.],\n",
       "        [-200., -200., -200., ..., -200., -200., -200.]]])]"
      ]
     },
     "execution_count": 18,
     "metadata": {},
     "output_type": "execute_result"
    }
   ],
   "source": [
    "p.data"
   ]
  },
  {
   "cell_type": "code",
   "execution_count": 19,
   "metadata": {},
   "outputs": [
    {
     "data": {
      "text/plain": [
       "[Cube([[[-200., -200., -200., ..., -200., -200., -200.],\n",
       "        [-200., -200., -200., ..., -200., -200., -200.],\n",
       "        [-200., -200., -200., ..., -200., -200., -200.],\n",
       "        ..., \n",
       "        [-200., -200., -200., ..., -200., -200., -200.],\n",
       "        [-200., -200., -200., ..., -200., -200., -200.],\n",
       "        [-200., -200., -200., ..., -200., -200., -200.]]]),\n",
       " Cube([[[-200., -200., -200., ..., -200., -200., -200.],\n",
       "        [-200., -200., -200., ..., -200., -200., -200.],\n",
       "        [-200., -200., -200., ..., -200., -200., -200.],\n",
       "        ..., \n",
       "        [-200., -200., -200., ..., -200., -200., -200.],\n",
       "        [-200., -200., -200., ..., -200., -200., -200.],\n",
       "        [-200., -200., -200., ..., -200., -200., -200.]]])]"
      ]
     },
     "execution_count": 19,
     "metadata": {},
     "output_type": "execute_result"
    }
   ],
   "source": [
    "cubeseq_copper.index_as_cube((slice(2,10), slice(0,1))).data"
   ]
  },
  {
   "cell_type": "code",
   "execution_count": 21,
   "metadata": {},
   "outputs": [
    {
     "data": {
      "text/plain": [
       "[Cube([[[-200., -200., -200., ..., -200., -200., -200.],\n",
       "        [-200., -200., -200., ..., -200., -200., -200.],\n",
       "        [-200., -200., -200., ..., -200., -200., -200.],\n",
       "        ..., \n",
       "        [-200., -200., -200., ..., -200., -200., -200.],\n",
       "        [-200., -200., -200., ..., -200., -200., -200.],\n",
       "        [-200., -200., -200., ..., -200., -200., -200.]],\n",
       " \n",
       "       [[-200., -200., -200., ..., -200., -200., -200.],\n",
       "        [-200., -200., -200., ..., -200., -200., -200.],\n",
       "        [-200., -200., -200., ..., -200., -200., -200.],\n",
       "        ..., \n",
       "        [-200., -200., -200., ..., -200., -200., -200.],\n",
       "        [-200., -200., -200., ..., -200., -200., -200.],\n",
       "        [-200., -200., -200., ..., -200., -200., -200.]],\n",
       " \n",
       "       [[-200., -200., -200., ..., -200., -200., -200.],\n",
       "        [-200., -200., -200., ..., -200., -200., -200.],\n",
       "        [-200., -200., -200., ..., -200., -200., -200.],\n",
       "        ..., \n",
       "        [-200., -200., -200., ..., -200., -200., -200.],\n",
       "        [-200., -200., -200., ..., -200., -200., -200.],\n",
       "        [-200., -200., -200., ..., -200., -200., -200.]],\n",
       " \n",
       "       [[-200., -200., -200., ..., -200., -200., -200.],\n",
       "        [-200., -200., -200., ..., -200., -200., -200.],\n",
       "        [-200., -200., -200., ..., -200., -200., -200.],\n",
       "        ..., \n",
       "        [-200., -200., -200., ..., -200., -200., -200.],\n",
       "        [-200., -200., -200., ..., -200., -200., -200.],\n",
       "        [-200., -200., -200., ..., -200., -200., -200.]],\n",
       " \n",
       "       [[-200., -200., -200., ..., -200., -200., -200.],\n",
       "        [-200., -200., -200., ..., -200., -200., -200.],\n",
       "        [-200., -200., -200., ..., -200., -200., -200.],\n",
       "        ..., \n",
       "        [-200., -200., -200., ..., -200., -200., -200.],\n",
       "        [-200., -200., -200., ..., -200., -200., -200.],\n",
       "        [-200., -200., -200., ..., -200., -200., -200.]],\n",
       " \n",
       "       [[-200., -200., -200., ..., -200., -200., -200.],\n",
       "        [-200., -200., -200., ..., -200., -200., -200.],\n",
       "        [-200., -200., -200., ..., -200., -200., -200.],\n",
       "        ..., \n",
       "        [-200., -200., -200., ..., -200., -200., -200.],\n",
       "        [-200., -200., -200., ..., -200., -200., -200.],\n",
       "        [-200., -200., -200., ..., -200., -200., -200.]]]),\n",
       " Cube([[[-200., -200., -200., ..., -200., -200., -200.],\n",
       "        [-200., -200., -200., ..., -200., -200., -200.],\n",
       "        [-200., -200., -200., ..., -200., -200., -200.],\n",
       "        ..., \n",
       "        [-200., -200., -200., ..., -200., -200., -200.],\n",
       "        [-200., -200., -200., ..., -200., -200., -200.],\n",
       "        [-200., -200., -200., ..., -200., -200., -200.]],\n",
       " \n",
       "       [[-200., -200., -200., ..., -200., -200., -200.],\n",
       "        [-200., -200., -200., ..., -200., -200., -200.],\n",
       "        [-200., -200., -200., ..., -200., -200., -200.],\n",
       "        ..., \n",
       "        [-200., -200., -200., ..., -200., -200., -200.],\n",
       "        [-200., -200., -200., ..., -200., -200., -200.],\n",
       "        [-200., -200., -200., ..., -200., -200., -200.]],\n",
       " \n",
       "       [[-200., -200., -200., ..., -200., -200., -200.],\n",
       "        [-200., -200., -200., ..., -200., -200., -200.],\n",
       "        [-200., -200., -200., ..., -200., -200., -200.],\n",
       "        ..., \n",
       "        [-200., -200., -200., ..., -200., -200., -200.],\n",
       "        [-200., -200., -200., ..., -200., -200., -200.],\n",
       "        [-200., -200., -200., ..., -200., -200., -200.]],\n",
       " \n",
       "       [[-200., -200., -200., ..., -200., -200., -200.],\n",
       "        [-200., -200., -200., ..., -200., -200., -200.],\n",
       "        [-200., -200., -200., ..., -200., -200., -200.],\n",
       "        ..., \n",
       "        [-200., -200., -200., ..., -200., -200., -200.],\n",
       "        [-200., -200., -200., ..., -200., -200., -200.],\n",
       "        [-200., -200., -200., ..., -200., -200., -200.]],\n",
       " \n",
       "       [[-200., -200., -200., ..., -200., -200., -200.],\n",
       "        [-200., -200., -200., ..., -200., -200., -200.],\n",
       "        [-200., -200., -200., ..., -200., -200., -200.],\n",
       "        ..., \n",
       "        [-200., -200., -200., ..., -200., -200., -200.],\n",
       "        [-200., -200., -200., ..., -200., -200., -200.],\n",
       "        [-200., -200., -200., ..., -200., -200., -200.]]])]"
      ]
     },
     "execution_count": 21,
     "metadata": {},
     "output_type": "execute_result"
    }
   ],
   "source": [
    "cubeseq_copper.index_as_cube((slice(2,13))).data"
   ]
  },
  {
   "cell_type": "code",
   "execution_count": 23,
   "metadata": {},
   "outputs": [
    {
     "data": {
      "text/plain": [
       "[Cube([[[-200., -200., -200., ..., -200., -200., -200.],\n",
       "        [-200., -200., -200., ..., -200., -200., -200.],\n",
       "        [-200., -200., -200., ..., -200., -200., -200.],\n",
       "        [-200., -200., -200., ..., -200., -200., -200.]],\n",
       " \n",
       "       [[-200., -200., -200., ..., -200., -200., -200.],\n",
       "        [-200., -200., -200., ..., -200., -200., -200.],\n",
       "        [-200., -200., -200., ..., -200., -200., -200.],\n",
       "        [-200., -200., -200., ..., -200., -200., -200.]]]),\n",
       " Cube([[[-200., -200., -200., ..., -200., -200., -200.],\n",
       "        [-200., -200., -200., ..., -200., -200., -200.],\n",
       "        [-200., -200., -200., ..., -200., -200., -200.],\n",
       "        [-200., -200., -200., ..., -200., -200., -200.]],\n",
       " \n",
       "       [[-200., -200., -200., ..., -200., -200., -200.],\n",
       "        [-200., -200., -200., ..., -200., -200., -200.],\n",
       "        [-200., -200., -200., ..., -200., -200., -200.],\n",
       "        [-200., -200., -200., ..., -200., -200., -200.]]])]"
      ]
     },
     "execution_count": 23,
     "metadata": {},
     "output_type": "execute_result"
    }
   ],
   "source": [
    "cubeseq_copper.index_as_cube((slice(2,13), slice(0,2), slice(0,4))).data"
   ]
  },
  {
   "cell_type": "code",
   "execution_count": 24,
   "metadata": {},
   "outputs": [
    {
     "data": {
      "text/plain": [
       "5"
      ]
     },
     "execution_count": 24,
     "metadata": {},
     "output_type": "execute_result"
    }
   ],
   "source": [
    "len(cubeseq_copper.data)"
   ]
  },
  {
   "cell_type": "code",
   "execution_count": 25,
   "metadata": {},
   "outputs": [
    {
     "data": {
      "text/plain": [
       "WCS Keywords\n",
       "\n",
       "Number of WCS axes: 3\n",
       "CTYPE : 'WAVE'  'HPLT-TAN'  'HPLN-TAN'  \n",
       "CRVAL : 1.3319000000000002e-07  -0.07214583333333334  0.003415111111111111  \n",
       "CRPIX : 1.0  274.5  4.0  \n",
       "PC1_1 PC1_2 PC1_3  : 1.0  0.0  0.0  \n",
       "PC2_1 PC2_2 PC2_3  : 0.0  0.99993818998299999  -0.033824669224999999  \n",
       "PC3_1 PC3_2 PC3_3  : 0.0  0.0037611589699699998  0.99993818998299999  \n",
       "CDELT : 2.5960000000000002e-12  9.2416666666666659e-05  0.00027714449261861111  \n",
       "NAXIS : 333  548  8"
      ]
     },
     "execution_count": 25,
     "metadata": {},
     "output_type": "execute_result"
    }
   ],
   "source": [
    "cubeseq_copper.data[0].axes_wcs"
   ]
  },
  {
   "cell_type": "code",
   "execution_count": 26,
   "metadata": {},
   "outputs": [
    {
     "data": {
      "text/plain": [
       "WCS Keywords\n",
       "\n",
       "Number of WCS axes: 3\n",
       "CTYPE : 'WAVE'  'HPLT-TAN'  'HPLN-TAN'  \n",
       "CRVAL : 1.3319000000000002e-07  -0.072120000000000004  0.0034168611111111114  \n",
       "CRPIX : 1.0  274.5  4.0  \n",
       "PC1_1 PC1_2 PC1_3  : 1.0  0.0  0.0  \n",
       "PC2_1 PC2_2 PC2_3  : 0.0  0.99993818998299999  -0.0337910733785  \n",
       "PC3_1 PC3_2 PC3_3  : 0.0  0.0037574232550999999  0.99993818998299999  \n",
       "CDELT : 2.5960000000000002e-12  9.2416666666666659e-05  0.00027714449261861111  \n",
       "NAXIS : 333  548  8"
      ]
     },
     "execution_count": 26,
     "metadata": {},
     "output_type": "execute_result"
    }
   ],
   "source": [
    "cubeseq_copper.data[1].axes_wcs"
   ]
  },
  {
   "cell_type": "code",
   "execution_count": 27,
   "metadata": {},
   "outputs": [
    {
     "data": {
      "text/plain": [
       "WCS Keywords\n",
       "\n",
       "Number of WCS axes: 3\n",
       "CTYPE : 'WAVE'  'HPLT-TAN'  'HPLN-TAN'  \n",
       "CRVAL : 1.3319000000000002e-07  -0.07238583333333333  0.0034166666666666668  \n",
       "CRPIX : 1.0  274.5  4.0  \n",
       "PC1_1 PC1_2 PC1_3  : 1.0  0.0  0.0  \n",
       "PC2_1 PC2_2 PC2_3  : 0.0  0.99993818998299999  -0.033791517450299999  \n",
       "PC3_1 PC3_2 PC3_3  : 0.0  0.0037574726339899998  0.99993818998299999  \n",
       "CDELT : 2.5960000000000002e-12  9.2416666666666659e-05  0.00027714449261861111  \n",
       "NAXIS : 333  548  8"
      ]
     },
     "execution_count": 27,
     "metadata": {},
     "output_type": "execute_result"
    }
   ],
   "source": [
    "cubeseq_copper.data[2].axes_wcs"
   ]
  },
  {
   "cell_type": "code",
   "execution_count": 28,
   "metadata": {},
   "outputs": [
    {
     "data": {
      "text/plain": [
       "(8, 548, 333)"
      ]
     },
     "execution_count": 28,
     "metadata": {},
     "output_type": "execute_result"
    }
   ],
   "source": [
    "cubeseq_copper.data[2].shape"
   ]
  },
  {
   "cell_type": "code",
   "execution_count": null,
   "metadata": {
    "collapsed": true
   },
   "outputs": [],
   "source": []
  }
 ],
 "metadata": {
  "kernelspec": {
   "display_name": "Python 2",
   "language": "python",
   "name": "python2"
  },
  "language_info": {
   "codemirror_mode": {
    "name": "ipython",
    "version": 2
   },
   "file_extension": ".py",
   "mimetype": "text/x-python",
   "name": "python",
   "nbconvert_exporter": "python",
   "pygments_lexer": "ipython2",
   "version": "2.7.12"
  }
 },
 "nbformat": 4,
 "nbformat_minor": 2
}
