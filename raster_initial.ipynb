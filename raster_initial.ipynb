{
 "cells": [
  {
   "cell_type": "code",
   "execution_count": 1,
   "metadata": {
    "collapsed": true
   },
   "outputs": [],
   "source": [
    "from sunpycube.cube.datacube import Cube\n",
    "from sunpycube.wcs_util import WCS\n",
    "import matplotlib.pyplot as plt\n",
    "from irispy.spectrograph import IRISRaster\n",
    "raster_file = \"/home/ankit/Desktop/DATA/RASTER/iris_l2_20170221_052916_3882010194_raster_t000_r00000.fits\"\n",
    "raster = IRISRaster(raster_file)"
   ]
  },
  {
   "cell_type": "code",
   "execution_count": 3,
   "metadata": {},
   "outputs": [
    {
     "data": {
      "text/plain": [
       "{'AEC exposures in OBS': 0,\n",
       " 'BSCALE': 0.25,\n",
       " 'BZERO': 7992,\n",
       " 'DATA_SRC': 1.51,\n",
       " 'FOV X axis': <Quantity 126.792137146 arcsec>,\n",
       " 'FOV Y axis': <Quantity 128.589 arcsec>,\n",
       " 'FOV center X axis': <Quantity 333.034 arcsec>,\n",
       " 'FOV center Y axis': <Quantity 16.4439 arcsec>,\n",
       " 'IAECEVFL': False,\n",
       " 'IAECFLAG': False,\n",
       " 'IAECFLFL': False,\n",
       " 'SAA': False,\n",
       " 'build version': 'V8R12X',\n",
       " 'camera': 'spectra',\n",
       " 'data level': 2.0,\n",
       " 'data quantity': 'Intensity',\n",
       " 'data unit': 'Corrected DN',\n",
       " 'date data created': datetime.datetime(2017, 2, 25, 0, 0),\n",
       " 'detector gain': {'FUV': 6.0, 'NUV': 18.0, 'SJI': 18.0},\n",
       " 'detector yield': {'FUV': 1.5, 'NUV': 1.0, 'SJI': 1.0},\n",
       " 'dsun': <Quantity 147960000000.0 m>,\n",
       " 'exposure time max': 14.9993,\n",
       " 'exposure time mean': 14.9992,\n",
       " 'exposure time min': 14.9992,\n",
       " 'high latitude flag': 0,\n",
       " 'instrument': 'SPEC',\n",
       " 'level 2 reformatting date': datetime.datetime(2017, 2, 25, 1, 36, 33, 430000),\n",
       " 'level 2 reformatting version': 'L12-2015-11-03',\n",
       " 'look-up table ID': 4.0,\n",
       " 'number unique raster positions': 64,\n",
       " 'observation ID': 3882010194,\n",
       " 'observation description': 'Large coarse 64-step raster 126x120 64s  C II   Si IV   Mg II h/k',\n",
       " 'observation end': '2017-02-21T05:47:21.742',\n",
       " 'observation label': '',\n",
       " 'observation repetitions': 1,\n",
       " 'observation start': '2017-02-21T05:29:16.890',\n",
       " 'observation title': '',\n",
       " 'origin': 'SDO',\n",
       " 'raster step size mean': 1.9954404074,\n",
       " 'raster step size sigma': 4.05788037465e-06,\n",
       " 'readout noise': {'FUV': {'unit': 'DN', 'value': 3.1},\n",
       "  'NUV': {'unit': 'DN', 'value': 1.2},\n",
       "  'SJI': {'unit': 'DN', 'value': 1.2}},\n",
       " 'satellite roll angle': <Quantity 0.000365722 deg>,\n",
       " 'spatial summing': 1,\n",
       " 'spectral summing FUV': 1,\n",
       " 'spectral summing NUV': 1,\n",
       " 'spectral windows in OBS': array(['C II 1336', 'Si IV 1394', 'Mg II k 2796'], \n",
       "       dtype='|S12'),\n",
       " 'spectral windows in object': array(['C II 1336', 'Si IV 1394', 'Mg II k 2796'], \n",
       "       dtype='|S12'),\n",
       " 'status': 'Quicklook',\n",
       " 'telescope': 'IRIS',\n",
       " 'time step size mean': 16.944,\n",
       " 'time step size sigma': 0.134219,\n",
       " 'total exposures in OBS': 180}"
      ]
     },
     "execution_count": 3,
     "metadata": {},
     "output_type": "execute_result"
    }
   ],
   "source": [
    "raster.meta"
   ]
  },
  {
   "cell_type": "code",
   "execution_count": 4,
   "metadata": {},
   "outputs": [
    {
     "data": {
      "text/html": [
       "&lt;Table length=3&gt;\n",
       "<table id=\"table140110969670928\" class=\"table-striped table-bordered table-condensed\">\n",
       "<thead><tr><th>name</th><th>detector type</th><th>brightest wavelength</th><th>min wavelength</th><th>max wavelength</th></tr></thead>\n",
       "<thead><tr><th></th><th></th><th>Angstrom</th><th>Angstrom</th><th>Angstrom</th></tr></thead>\n",
       "<thead><tr><th>str12</th><th>str4</th><th>float64</th><th>float64</th><th>float64</th></tr></thead>\n",
       "<tr><td>C II 1336</td><td>FUV1</td><td>1335.70996094</td><td>1331.68328015</td><td>1358.34420039</td></tr>\n",
       "<tr><td>Si IV 1394</td><td>FUV2</td><td>1393.7800293</td><td>1380.79114787</td><td>1406.72722787</td></tr>\n",
       "<tr><td>Mg II k 2796</td><td>NUV</td><td>2796.19995117</td><td>2783.25864697</td><td>2834.94244538</td></tr>\n",
       "</table>"
      ],
      "text/plain": [
       "<Table length=3>\n",
       "    name     detector type brightest wavelength min wavelength max wavelength\n",
       "                                 Angstrom          Angstrom       Angstrom   \n",
       "   str12          str4           float64           float64        float64    \n",
       "------------ ------------- -------------------- -------------- --------------\n",
       "   C II 1336          FUV1        1335.70996094  1331.68328015  1358.34420039\n",
       "  Si IV 1394          FUV2         1393.7800293  1380.79114787  1406.72722787\n",
       "Mg II k 2796           NUV        2796.19995117  2783.25864697  2834.94244538"
      ]
     },
     "execution_count": 4,
     "metadata": {},
     "output_type": "execute_result"
    }
   ],
   "source": [
    "raster.spectral_windows"
   ]
  },
  {
   "cell_type": "code",
   "execution_count": 5,
   "metadata": {
    "collapsed": true
   },
   "outputs": [],
   "source": [
    "windows = raster.spectral_windows['name']"
   ]
  },
  {
   "cell_type": "code",
   "execution_count": 6,
   "metadata": {},
   "outputs": [
    {
     "data": {
      "text/html": [
       "&lt;Column name=&apos;name&apos; dtype=&apos;str12&apos; length=3&gt;\n",
       "<table>\n",
       "<tr><td>C II 1336</td></tr>\n",
       "<tr><td>Si IV 1394</td></tr>\n",
       "<tr><td>Mg II k 2796</td></tr>\n",
       "</table>"
      ],
      "text/plain": [
       "<Column name='name' dtype='str12' length=3>\n",
       "   C II 1336\n",
       "  Si IV 1394\n",
       "Mg II k 2796"
      ]
     },
     "execution_count": 6,
     "metadata": {},
     "output_type": "execute_result"
    }
   ],
   "source": [
    "windows"
   ]
  },
  {
   "cell_type": "code",
   "execution_count": 7,
   "metadata": {},
   "outputs": [
    {
     "data": {
      "text/plain": [
       "<sunpy.visualization.imageanimator.ImageAnimator at 0x7f6e208bd110>"
      ]
     },
     "execution_count": 7,
     "metadata": {},
     "output_type": "execute_result"
    }
   ],
   "source": [
    "raster.data[windows[0]].animate()"
   ]
  },
  {
   "cell_type": "code",
   "execution_count": 8,
   "metadata": {},
   "outputs": [
    {
     "data": {
      "image/png": "[encoded data removed]",
      "text/plain": [
       "<matplotlib.figure.Figure at 0x7f6e208bd150>"
      ]
     },
     "metadata": {},
     "output_type": "display_data"
    }
   ],
   "source": [
    "plt.show()"
   ]
  },
  {
   "cell_type": "code",
   "execution_count": 9,
   "metadata": {},
   "outputs": [
    {
     "data": {
      "text/plain": [
       "{'C II 1336': Cube([[[   nan,    nan,    nan, ...,    nan,    nan,    nan],\n",
       "        [   nan,    nan,    nan, ...,    nan,    nan,    nan],\n",
       "        [   nan,    nan,    nan, ...,    nan,    nan,    nan],\n",
       "        ..., \n",
       "        [   nan,   5.75,   5.75, ...,    nan,    nan,    nan],\n",
       "        [   nan,   3.75,   4.  , ...,    nan,    nan,    nan],\n",
       "        [   nan,    nan,    nan, ...,    nan,    nan,    nan]],\n",
       " \n",
       "       [[   nan,    nan,    nan, ...,    nan,    nan,    nan],\n",
       "        [   nan,    nan,    nan, ...,    nan,    nan,    nan],\n",
       "        [   nan,    nan,    nan, ...,    nan,    nan,    nan],\n",
       "        ..., \n",
       "        [   nan,   2.75,   3.5 , ...,    nan,    nan,    nan],\n",
       "        [   nan,  -0.25,   1.75, ...,    nan,    nan,    nan],\n",
       "        [   nan,    nan,    nan, ...,    nan,    nan,    nan]],\n",
       " \n",
       "       [[   nan,    nan,    nan, ...,    nan,    nan,    nan],\n",
       "        [   nan,    nan,    nan, ...,    nan,    nan,    nan],\n",
       "        [   nan,    nan,    nan, ...,    nan,    nan,    nan],\n",
       "        ..., \n",
       "        [   nan,   4.75,   2.25, ...,    nan,    nan,    nan],\n",
       "        [   nan,  -1.25,   0.  , ...,    nan,    nan,    nan],\n",
       "        [   nan,    nan,    nan, ...,    nan,    nan,    nan]],\n",
       " \n",
       "       ..., \n",
       "       [[   nan,    nan,    nan, ...,    nan,    nan,    nan],\n",
       "        [   nan,    nan,    nan, ...,    nan,    nan,    nan],\n",
       "        [   nan,    nan,    nan, ...,    nan,    nan,    nan],\n",
       "        ..., \n",
       "        [   nan,    nan,  14.75, ...,    nan,    nan,    nan],\n",
       "        [   nan,    nan,  10.  , ...,    nan,    nan,    nan],\n",
       "        [   nan,    nan,    nan, ...,    nan,    nan,    nan]],\n",
       " \n",
       "       [[   nan,    nan,    nan, ...,    nan,    nan,    nan],\n",
       "        [   nan,    nan,    nan, ...,    nan,    nan,    nan],\n",
       "        [   nan,    nan,    nan, ...,    nan,    nan,    nan],\n",
       "        ..., \n",
       "        [   nan,    nan,   6.5 , ...,    nan,    nan,    nan],\n",
       "        [   nan,    nan,   8.75, ...,    nan,    nan,    nan],\n",
       "        [   nan,    nan,    nan, ...,    nan,    nan,    nan]],\n",
       " \n",
       "       [[   nan,    nan,    nan, ...,    nan,    nan,    nan],\n",
       "        [   nan,    nan,    nan, ...,    nan,    nan,    nan],\n",
       "        [   nan,    nan,    nan, ...,    nan,    nan,    nan],\n",
       "        ..., \n",
       "        [   nan,    nan,  15.5 , ...,    nan,    nan,    nan],\n",
       "        [   nan,    nan,  10.25, ...,    nan,    nan,    nan],\n",
       "        [   nan,    nan,    nan, ...,    nan,    nan,    nan]]]),\n",
       " 'Mg II k 2796': Cube([[[    nan,     nan,     nan, ...,  517.25,  617.75,  568.  ],\n",
       "        [    nan,     nan,     nan, ...,  520.25,  626.5 ,  558.  ],\n",
       "        [    nan,     nan,     nan, ...,  495.25,  602.25,  549.5 ],\n",
       "        ..., \n",
       "        [    nan,     nan,     nan, ...,     nan,     nan,     nan],\n",
       "        [    nan,     nan,     nan, ...,     nan,     nan,     nan],\n",
       "        [    nan,     nan,     nan, ...,     nan,     nan,     nan]],\n",
       " \n",
       "       [[    nan,     nan,     nan, ...,  426.75,  486.75,  516.  ],\n",
       "        [    nan,     nan,     nan, ...,  431.75,  498.25,  503.  ],\n",
       "        [    nan,     nan,     nan, ...,  444.  ,  519.75,  530.  ],\n",
       "        ..., \n",
       "        [    nan,     nan,     nan, ...,     nan,     nan,     nan],\n",
       "        [    nan,     nan,     nan, ...,     nan,     nan,     nan],\n",
       "        [    nan,     nan,     nan, ...,     nan,     nan,     nan]],\n",
       " \n",
       "       [[    nan,     nan,     nan, ...,  380.75,  420.  ,  488.75],\n",
       "        [    nan,     nan,     nan, ...,  383.5 ,  432.75,  468.  ],\n",
       "        [    nan,     nan,     nan, ...,  386.25,  433.25,  496.5 ],\n",
       "        ..., \n",
       "        [    nan,     nan,     nan, ...,     nan,     nan,     nan],\n",
       "        [    nan,     nan,     nan, ...,     nan,     nan,     nan],\n",
       "        [    nan,     nan,     nan, ...,     nan,     nan,     nan]],\n",
       " \n",
       "       ..., \n",
       "       [[    nan,     nan,     nan, ...,  392.25,  455.75,  494.  ],\n",
       "        [    nan,     nan,     nan, ...,  409.25,  490.5 ,  520.25],\n",
       "        [    nan,     nan,     nan, ...,  437.5 ,  524.25,  550.75],\n",
       "        ..., \n",
       "        [    nan,     nan,     nan, ...,     nan,     nan,     nan],\n",
       "        [    nan,     nan,     nan, ...,     nan,     nan,     nan],\n",
       "        [    nan,     nan,     nan, ...,     nan,     nan,     nan]],\n",
       " \n",
       "       [[    nan,     nan,     nan, ...,  457.25,  577.  ,  599.  ],\n",
       "        [    nan,     nan,     nan, ...,  446.75,  545.5 ,  565.25],\n",
       "        [    nan,     nan,     nan, ...,  414.  ,  514.25,  545.5 ],\n",
       "        ..., \n",
       "        [    nan,     nan,     nan, ...,     nan,     nan,     nan],\n",
       "        [    nan,     nan,     nan, ...,     nan,     nan,     nan],\n",
       "        [    nan,     nan,     nan, ...,     nan,     nan,     nan]],\n",
       " \n",
       "       [[    nan,     nan,     nan, ...,  380.5 ,  442.25,  467.75],\n",
       "        [    nan,     nan,     nan, ...,  432.  ,  515.25,  543.75],\n",
       "        [    nan,     nan,     nan, ...,  460.25,  572.5 ,  596.5 ],\n",
       "        ..., \n",
       "        [    nan,     nan,     nan, ...,     nan,     nan,     nan],\n",
       "        [    nan,     nan,     nan, ...,     nan,     nan,     nan],\n",
       "        [    nan,     nan,     nan, ...,     nan,     nan,     nan]]]),\n",
       " 'Si IV 1394': Cube([[[ nan,  nan,  nan, ...,  nan,  nan,  nan],\n",
       "        [ nan,  nan,  nan, ...,  nan,  nan,  nan],\n",
       "        [ nan,  nan,  nan, ...,  nan,  nan,  nan],\n",
       "        ..., \n",
       "        [ nan,  nan,  nan, ...,  nan,  nan,  nan],\n",
       "        [ nan,  nan,  nan, ...,  nan,  nan,  nan],\n",
       "        [ nan,  nan,  nan, ...,  nan,  nan,  nan]],\n",
       " \n",
       "       [[ nan,  nan,  nan, ...,  nan,  nan,  nan],\n",
       "        [ nan,  nan,  nan, ...,  nan,  nan,  nan],\n",
       "        [ nan,  nan,  nan, ...,  nan,  nan,  nan],\n",
       "        ..., \n",
       "        [ nan,  nan,  nan, ...,  nan,  nan,  nan],\n",
       "        [ nan,  nan,  nan, ...,  nan,  nan,  nan],\n",
       "        [ nan,  nan,  nan, ...,  nan,  nan,  nan]],\n",
       " \n",
       "       [[ nan,  nan,  nan, ...,  nan,  nan,  nan],\n",
       "        [ nan,  nan,  nan, ...,  nan,  nan,  nan],\n",
       "        [ nan,  nan,  nan, ...,  nan,  nan,  nan],\n",
       "        ..., \n",
       "        [ nan,  nan,  nan, ...,  nan,  nan,  nan],\n",
       "        [ nan,  nan,  nan, ...,  nan,  nan,  nan],\n",
       "        [ nan,  nan,  nan, ...,  nan,  nan,  nan]],\n",
       " \n",
       "       ..., \n",
       "       [[ nan,  nan,  nan, ...,  nan,  nan,  nan],\n",
       "        [ nan,  nan,  nan, ...,  nan,  nan,  nan],\n",
       "        [ nan,  nan,  nan, ...,  nan,  nan,  nan],\n",
       "        ..., \n",
       "        [ nan,  nan,  nan, ...,  nan,  nan,  nan],\n",
       "        [ nan,  nan,  nan, ...,  nan,  nan,  nan],\n",
       "        [ nan,  nan,  nan, ...,  nan,  nan,  nan]],\n",
       " \n",
       "       [[ nan,  nan,  nan, ...,  nan,  nan,  nan],\n",
       "        [ nan,  nan,  nan, ...,  nan,  nan,  nan],\n",
       "        [ nan,  nan,  nan, ...,  nan,  nan,  nan],\n",
       "        ..., \n",
       "        [ nan,  nan,  nan, ...,  nan,  nan,  nan],\n",
       "        [ nan,  nan,  nan, ...,  nan,  nan,  nan],\n",
       "        [ nan,  nan,  nan, ...,  nan,  nan,  nan]],\n",
       " \n",
       "       [[ nan,  nan,  nan, ...,  nan,  nan,  nan],\n",
       "        [ nan,  nan,  nan, ...,  nan,  nan,  nan],\n",
       "        [ nan,  nan,  nan, ...,  nan,  nan,  nan],\n",
       "        ..., \n",
       "        [ nan,  nan,  nan, ...,  nan,  nan,  nan],\n",
       "        [ nan,  nan,  nan, ...,  nan,  nan,  nan],\n",
       "        [ nan,  nan,  nan, ...,  nan,  nan,  nan]]])}"
      ]
     },
     "execution_count": 9,
     "metadata": {},
     "output_type": "execute_result"
    }
   ],
   "source": [
    "raster.data"
   ]
  },
  {
   "cell_type": "code",
   "execution_count": null,
   "metadata": {
    "collapsed": true
   },
   "outputs": [],
   "source": []
  }
 ],
 "metadata": {
  "kernelspec": {
   "display_name": "Python 2",
   "language": "python",
   "name": "python2"
  },
  "language_info": {
   "codemirror_mode": {
    "name": "ipython",
    "version": 2
   },
   "file_extension": ".py",
   "mimetype": "text/x-python",
   "name": "python",
   "nbconvert_exporter": "python",
   "pygments_lexer": "ipython2",
   "version": "2.7.12"
  }
 },
 "nbformat": 4,
 "nbformat_minor": 2
}
